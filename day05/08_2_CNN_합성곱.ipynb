{
 "cells": [
  {
   "cell_type": "markdown",
   "metadata": {},
   "source": [
    "### 사전 준비"
   ]
  },
  {
   "cell_type": "code",
   "execution_count": 1,
   "metadata": {},
   "outputs": [],
   "source": [
    "# 기본 패키지 import\n",
    "import numpy as np\n",
    "import pandas as pd\n",
    "import scipy as sp\n",
    "\n",
    "import matplotlib as mpl\n",
    "import matplotlib.pyplot as plt\n",
    "import seaborn as sns"
   ]
  },
  {
   "cell_type": "code",
   "execution_count": 2,
   "metadata": {},
   "outputs": [],
   "source": [
    "# 한글 설정/차트 마이너스 깨짐현상 해결 / seaborn 화면설정\n",
    "from matplotlib import rc\n",
    "import matplotlib.font_manager as fm\n",
    "\n",
    "plt.rc('font', family='Malgun Gothic')\n",
    "sns.set(font='Malgun Gothic', rc={'axes.unicode_minus':False}, style='darkgrid')"
   ]
  },
  {
   "cell_type": "markdown",
   "metadata": {},
   "source": [
    "### 합성곱 신경망 이미지 분류"
   ]
  },
  {
   "cell_type": "code",
   "execution_count": 3,
   "metadata": {},
   "outputs": [],
   "source": [
    "from tensorflow import keras\n",
    "from tensorflow.keras.datasets.fashion_mnist import load_data\n",
    "from sklearn.model_selection import train_test_split"
   ]
  },
  {
   "cell_type": "code",
   "execution_count": 4,
   "metadata": {},
   "outputs": [],
   "source": [
    "(train_input, train_target), (test_input, test_target) = load_data()"
   ]
  },
  {
   "cell_type": "code",
   "execution_count": 5,
   "metadata": {},
   "outputs": [
    {
     "data": {
      "text/plain": [
       "(60000, 28, 28, 1)"
      ]
     },
     "execution_count": 5,
     "metadata": {},
     "output_type": "execute_result"
    }
   ],
   "source": [
    "train_scaled = train_input.reshape(-1, 28, 28, 1) / 255.0\n",
    "train_scaled.shape"
   ]
  },
  {
   "cell_type": "code",
   "execution_count": 7,
   "metadata": {},
   "outputs": [],
   "source": [
    "train_scaled, val_scaled, train_target, val_target = train_test_split(train_scaled, train_target, test_size=0.2,\n",
    "\n",
    "random_state=42)"
   ]
  },
  {
   "cell_type": "code",
   "execution_count": 8,
   "metadata": {},
   "outputs": [
    {
     "name": "stdout",
     "output_type": "stream",
     "text": [
      "(48000, 28, 28, 1) (48000,)\n",
      "(12000, 28, 28, 1) (12000,)\n"
     ]
    }
   ],
   "source": [
    "print(train_scaled.shape, train_target.shape)\n",
    "print(val_scaled.shape, val_target.shape)"
   ]
  },
  {
   "cell_type": "markdown",
   "metadata": {},
   "source": [
    "#### 합성곱 신경망 생성"
   ]
  },
  {
   "cell_type": "code",
   "execution_count": 12,
   "metadata": {},
   "outputs": [],
   "source": [
    "model = keras.Sequential()\n",
    "\n",
    "model.add(keras.layers.Conv2D(32, kernel_size=3, activation='relu', padding='same', input_shape=(28,28,1)))\n",
    "model.add(keras.layers.MaxPooling2D(2)) # 14x14 특성맵 = 32\n",
    "model.add(keras.layers.Conv2D(64, kernel_size=3, activation='relu', padding='same'))\n",
    "model.add(keras.layers.MaxPooling2D(2)) # 7x7 특성맵 = 64"
   ]
  },
  {
   "cell_type": "code",
   "execution_count": 13,
   "metadata": {},
   "outputs": [
    {
     "name": "stdout",
     "output_type": "stream",
     "text": [
      "Model: \"sequential_1\"\n",
      "_________________________________________________________________\n",
      " Layer (type)                Output Shape              Param #   \n",
      "=================================================================\n",
      " conv2d_1 (Conv2D)           (None, 28, 28, 32)        320       \n",
      "                                                                 \n",
      " max_pooling2d_1 (MaxPooling  (None, 14, 14, 32)       0         \n",
      " 2D)                                                             \n",
      "                                                                 \n",
      " conv2d_2 (Conv2D)           (None, 14, 14, 64)        18496     \n",
      "                                                                 \n",
      " max_pooling2d_2 (MaxPooling  (None, 7, 7, 64)         0         \n",
      " 2D)                                                             \n",
      "                                                                 \n",
      "=================================================================\n",
      "Total params: 18,816\n",
      "Trainable params: 18,816\n",
      "Non-trainable params: 0\n",
      "_________________________________________________________________\n"
     ]
    }
   ],
   "source": [
    "model.summary()"
   ]
  },
  {
   "cell_type": "code",
   "execution_count": 14,
   "metadata": {},
   "outputs": [],
   "source": [
    "model.add(keras.layers.Flatten())  # 7x7x64 = 3136\n",
    "model.add(keras.layers.Dense(100, activation='relu'))\n",
    "model.add(keras.layers.Dropout(0.4))  # 60개 노드만 통과\n",
    "model.add(keras.layers.Dense(10, activation='softmax'))"
   ]
  },
  {
   "cell_type": "code",
   "execution_count": 16,
   "metadata": {},
   "outputs": [
    {
     "name": "stdout",
     "output_type": "stream",
     "text": [
      "Model: \"sequential_1\"\n",
      "_________________________________________________________________\n",
      " Layer (type)                Output Shape              Param #   \n",
      "=================================================================\n",
      " conv2d_1 (Conv2D)           (None, 28, 28, 32)        320       \n",
      "                                                                 \n",
      " max_pooling2d_1 (MaxPooling  (None, 14, 14, 32)       0         \n",
      " 2D)                                                             \n",
      "                                                                 \n",
      " conv2d_2 (Conv2D)           (None, 14, 14, 64)        18496     \n",
      "                                                                 \n",
      " max_pooling2d_2 (MaxPooling  (None, 7, 7, 64)         0         \n",
      " 2D)                                                             \n",
      "                                                                 \n",
      " flatten (Flatten)           (None, 3136)              0         \n",
      "                                                                 \n",
      " dense (Dense)               (None, 100)               313700    \n",
      "                                                                 \n",
      " dropout (Dropout)           (None, 100)               0         \n",
      "                                                                 \n",
      " dense_1 (Dense)             (None, 10)                1010      \n",
      "                                                                 \n",
      "=================================================================\n",
      "Total params: 333,526\n",
      "Trainable params: 333,526\n",
      "Non-trainable params: 0\n",
      "_________________________________________________________________\n"
     ]
    }
   ],
   "source": [
    "model.summary()"
   ]
  },
  {
   "cell_type": "code",
   "execution_count": 17,
   "metadata": {},
   "outputs": [
    {
     "name": "stdout",
     "output_type": "stream",
     "text": [
      "You must install pydot (`pip install pydot`) and install graphviz (see instructions at https://graphviz.gitlab.io/download/) for plot_model/model_to_dot to work.\n"
     ]
    }
   ],
   "source": [
    "keras.utils.plot_model(model)"
   ]
  },
  {
   "cell_type": "markdown",
   "metadata": {},
   "source": [
    "#### 모델 컴파일 훈련"
   ]
  },
  {
   "cell_type": "code",
   "execution_count": 18,
   "metadata": {},
   "outputs": [
    {
     "name": "stdout",
     "output_type": "stream",
     "text": [
      "Epoch 1/20\n",
      "1500/1500 [==============================] - ETA: 0s - loss: 0.5162 - accuracy: 0.8148\n",
      "Epoch 1: val_loss improved from inf to 0.34217, saving model to ./data\\best_cnn_model.h5\n",
      "1500/1500 [==============================] - 34s 22ms/step - loss: 0.5162 - accuracy: 0.8148 - val_loss: 0.3422 - val_accuracy: 0.8723\n",
      "Epoch 2/20\n",
      "1498/1500 [============================>.] - ETA: 0s - loss: 0.3474 - accuracy: 0.8754\n",
      "Epoch 2: val_loss improved from 0.34217 to 0.27798, saving model to ./data\\best_cnn_model.h5\n",
      "1500/1500 [==============================] - 38s 25ms/step - loss: 0.3475 - accuracy: 0.8753 - val_loss: 0.2780 - val_accuracy: 0.8955\n",
      "Epoch 3/20\n",
      "1499/1500 [============================>.] - ETA: 0s - loss: 0.2956 - accuracy: 0.8919\n",
      "Epoch 3: val_loss improved from 0.27798 to 0.25603, saving model to ./data\\best_cnn_model.h5\n",
      "1500/1500 [==============================] - 38s 25ms/step - loss: 0.2956 - accuracy: 0.8919 - val_loss: 0.2560 - val_accuracy: 0.9062\n",
      "Epoch 4/20\n",
      "1499/1500 [============================>.] - ETA: 0s - loss: 0.2668 - accuracy: 0.9042\n",
      "Epoch 4: val_loss improved from 0.25603 to 0.24869, saving model to ./data\\best_cnn_model.h5\n",
      "1500/1500 [==============================] - 38s 25ms/step - loss: 0.2667 - accuracy: 0.9042 - val_loss: 0.2487 - val_accuracy: 0.9090\n",
      "Epoch 5/20\n",
      "1499/1500 [============================>.] - ETA: 0s - loss: 0.2408 - accuracy: 0.9118\n",
      "Epoch 5: val_loss improved from 0.24869 to 0.23405, saving model to ./data\\best_cnn_model.h5\n",
      "1500/1500 [==============================] - 38s 25ms/step - loss: 0.2409 - accuracy: 0.9118 - val_loss: 0.2341 - val_accuracy: 0.9118\n",
      "Epoch 6/20\n",
      "1498/1500 [============================>.] - ETA: 0s - loss: 0.2211 - accuracy: 0.9187\n",
      "Epoch 6: val_loss improved from 0.23405 to 0.22232, saving model to ./data\\best_cnn_model.h5\n",
      "1500/1500 [==============================] - 38s 25ms/step - loss: 0.2210 - accuracy: 0.9187 - val_loss: 0.2223 - val_accuracy: 0.9184\n",
      "Epoch 7/20\n",
      "1499/1500 [============================>.] - ETA: 0s - loss: 0.2050 - accuracy: 0.9235\n",
      "Epoch 7: val_loss did not improve from 0.22232\n",
      "1500/1500 [==============================] - 39s 26ms/step - loss: 0.2051 - accuracy: 0.9234 - val_loss: 0.2295 - val_accuracy: 0.9120\n",
      "Epoch 8/20\n",
      "1498/1500 [============================>.] - ETA: 0s - loss: 0.1912 - accuracy: 0.9296\n",
      "Epoch 8: val_loss improved from 0.22232 to 0.22214, saving model to ./data\\best_cnn_model.h5\n",
      "1500/1500 [==============================] - 40s 26ms/step - loss: 0.1912 - accuracy: 0.9295 - val_loss: 0.2221 - val_accuracy: 0.9185\n",
      "Epoch 9/20\n",
      "1500/1500 [==============================] - ETA: 0s - loss: 0.1761 - accuracy: 0.9340\n",
      "Epoch 9: val_loss did not improve from 0.22214\n",
      "1500/1500 [==============================] - 39s 26ms/step - loss: 0.1761 - accuracy: 0.9340 - val_loss: 0.2225 - val_accuracy: 0.9221\n",
      "Epoch 10/20\n",
      "1500/1500 [==============================] - ETA: 0s - loss: 0.1640 - accuracy: 0.9392\n",
      "Epoch 10: val_loss did not improve from 0.22214\n",
      "Restoring model weights from the end of the best epoch: 8.\n",
      "1500/1500 [==============================] - 38s 26ms/step - loss: 0.1640 - accuracy: 0.9392 - val_loss: 0.2288 - val_accuracy: 0.9208\n",
      "Epoch 10: early stopping\n"
     ]
    }
   ],
   "source": [
    "model.compile(loss='sparse_categorical_crossentropy', metrics='accuracy', optimizer='adam')\n",
    "checkpoint_cb = keras.callbacks.ModelCheckpoint('./data/best_cnn_model.h5', save_best_only=True, verbose=1)\n",
    "early_stopping_cb = keras.callbacks.EarlyStopping(patience=2, restore_best_weights=True, verbose=1)\n",
    "history = model.fit(train_scaled, train_target, epochs=20, verbose=1, validation_data=(val_scaled, val_target), \n",
    "                    callbacks=[checkpoint_cb, early_stopping_cb])"
   ]
  },
  {
   "cell_type": "code",
   "execution_count": 19,
   "metadata": {},
   "outputs": [
    {
     "data": {
      "image/png": "[encoded data removed]",
      "text/plain": [
       "<Figure size 720x360 with 1 Axes>"
      ]
     },
     "metadata": {
      "needs_background": "light"
     },
     "output_type": "display_data"
    }
   ],
   "source": [
    "plt.figure(figsize=(10,5))\n",
    "plt.plot(history.history['loss'])\n",
    "plt.plot(history.history['val_loss'])\n",
    "plt.show()"
   ]
  },
  {
   "cell_type": "code",
   "execution_count": 20,
   "metadata": {},
   "outputs": [
    {
     "data": {
      "text/plain": [
       "9"
      ]
     },
     "execution_count": 20,
     "metadata": {},
     "output_type": "execute_result"
    }
   ],
   "source": [
    "early_stopping_cb.stopped_epoch"
   ]
  },
  {
   "cell_type": "code",
   "execution_count": 21,
   "metadata": {},
   "outputs": [
    {
     "name": "stdout",
     "output_type": "stream",
     "text": [
      "375/375 [==============================] - 3s 7ms/step - loss: 0.2221 - accuracy: 0.9185\n"
     ]
    },
    {
     "data": {
      "text/plain": [
       "[0.22213596105575562, 0.9185000061988831]"
      ]
     },
     "execution_count": 21,
     "metadata": {},
     "output_type": "execute_result"
    }
   ],
   "source": [
    "model.evaluate(val_scaled, val_target)"
   ]
  },
  {
   "cell_type": "code",
   "execution_count": 22,
   "metadata": {},
   "outputs": [
    {
     "data": {
      "image/png": "[encoded data removed]",
      "text/plain": [
       "<Figure size 432x288 with 1 Axes>"
      ]
     },
     "metadata": {
      "needs_background": "light"
     },
     "output_type": "display_data"
    }
   ],
   "source": [
    "plt.imshow(X=val_scaled[0].reshape(28,28), cmap='gray_r')\n",
    "plt.show()"
   ]
  },
  {
   "cell_type": "code",
   "execution_count": 23,
   "metadata": {},
   "outputs": [
    {
     "name": "stdout",
     "output_type": "stream",
     "text": [
      "1/1 [==============================] - 0s 93ms/step\n"
     ]
    },
    {
     "data": {
      "text/plain": [
       "array([[5.0587552e-15, 2.8648497e-17, 2.4745316e-16, 3.5476637e-14,\n",
       "        6.9872764e-13, 3.4689756e-13, 2.5704067e-13, 7.0045495e-15,\n",
       "        1.0000000e+00, 1.0338241e-14]], dtype=float32)"
      ]
     },
     "execution_count": 23,
     "metadata": {},
     "output_type": "execute_result"
    }
   ],
   "source": [
    "# 예측\n",
    "result = model.predict(val_scaled[0:1])\n",
    "result"
   ]
  },
  {
   "cell_type": "code",
   "execution_count": 24,
   "metadata": {},
   "outputs": [
    {
     "name": "stdout",
     "output_type": "stream",
     "text": [
      "1/1 [==============================] - 0s 23ms/step\n"
     ]
    },
    {
     "data": {
      "text/plain": [
       "array([8], dtype=int64)"
      ]
     },
     "execution_count": 24,
     "metadata": {},
     "output_type": "execute_result"
    }
   ],
   "source": [
    "val_labels = np.argmax(model.predict(val_scaled[0:1]), axis=-1)\n",
    "val_labels"
   ]
  },
  {
   "cell_type": "code",
   "execution_count": 25,
   "metadata": {},
   "outputs": [],
   "source": [
    "classes = ['티셔츠', '바지', '스웨터', '드레스', '코트', '샌달', '셔츠', '스니커즈', '가방', '앵클부츠']"
   ]
  },
  {
   "cell_type": "code",
   "execution_count": 26,
   "metadata": {},
   "outputs": [
    {
     "name": "stdout",
     "output_type": "stream",
     "text": [
      "가방\n"
     ]
    }
   ],
   "source": [
    "print(classes[np.argmax(result)])"
   ]
  },
  {
   "cell_type": "code",
   "execution_count": null,
   "metadata": {},
   "outputs": [],
   "source": []
  }
 ],
 "metadata": {
  "kernelspec": {
   "display_name": "Python 3.10.5 64-bit",
   "language": "python",
   "name": "python3"
  },
  "language_info": {
   "codemirror_mode": {
    "name": "ipython",
    "version": 3
   },
   "file_extension": ".py",
   "mimetype": "text/x-python",
   "name": "python",
   "nbconvert_exporter": "python",
   "pygments_lexer": "ipython3",
   "version": "3.10.5"
  },
  "orig_nbformat": 4,
  "vscode": {
   "interpreter": {
    "hash": "beedbe2faf2f7048d727558d0bc3221e7eba2a0b921cac4d4771b2feb8f74b30"
   }
  }
 },
 "nbformat": 4,
 "nbformat_minor": 2
}
